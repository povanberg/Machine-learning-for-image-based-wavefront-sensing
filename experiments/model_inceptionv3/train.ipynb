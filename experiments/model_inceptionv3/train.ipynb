{
 "cells": [
  {
   "cell_type": "code",
   "execution_count": 1,
   "metadata": {},
   "outputs": [],
   "source": [
    "import sys\n",
    "import torch\n",
    "import torch.nn as nn\n",
    "import torch.nn.functional as F\n",
    "import torch.optim as optim\n",
    "import torchvision.models as models\n",
    "from torchvision import transforms\n",
    "\n",
    "sys.path.insert(0, '../..')\n",
    "from load import load\n",
    "from train import train, eval\n",
    "from utils import plot_learningcurve, get_metrics\n",
    "from dataset import psf_dataset, splitDataLoader, ToTensor, Normalize"
   ]
  },
  {
   "cell_type": "code",
   "execution_count": 2,
   "metadata": {},
   "outputs": [
    {
     "name": "stdout",
     "output_type": "stream",
     "text": [
      "torch.Size([32, 20])\n"
     ]
    }
   ],
   "source": [
    "model = models.inception_v3(pretrained=True, transform_input=False)\n",
    "\n",
    "# Unsafe ?\n",
    "first_conv_layer = [nn.ConvTranspose2d(2, 3, kernel_size=3, stride=3, padding=42, dilation=1, groups=1, bias=True),\n",
    "                    model.Conv2d_1a_3x3]\n",
    "model.Conv2d_1a_3x3= nn.Sequential(*first_conv_layer)\n",
    "\n",
    "# Fit classifier\n",
    "model.fc = nn.Linear(2048, 20)\n",
    "\n",
    "\n",
    "# GPU support\n",
    "device = torch.device(\"cuda:0\" if torch.cuda.is_available() else \"cpu\")\n",
    "if torch.cuda.device_count() > 1:\n",
    "    model = nn.DataParallel(model)\n",
    "    model.to(device)\n",
    "\n",
    "x = torch.randn(32, 2, 128, 128)\n",
    "output, aux = model(x)\n",
    "print(output.shape)"
   ]
  },
  {
   "cell_type": "code",
   "execution_count": 3,
   "metadata": {},
   "outputs": [],
   "source": [
    "# Loss function and optimizer\n",
    "criterion = nn.MSELoss()\n",
    "optimizer = optim.Adam(model.parameters(), lr = 1e-4)"
   ]
  },
  {
   "cell_type": "code",
   "execution_count": 4,
   "metadata": {},
   "outputs": [],
   "source": [
    "# Data set\n",
    "data_dir = '../../dataset/'\n",
    "dataset_size = 10000\n",
    "dataset = psf_dataset(\n",
    "                      root_dir = data_dir,\n",
    "                      size = dataset_size,\n",
    "                      transform = transforms.Compose([Normalize(data_dir),ToTensor()])\n",
    "                     )"
   ]
  },
  {
   "cell_type": "code",
   "execution_count": null,
   "metadata": {
    "scrolled": true
   },
   "outputs": [
    {
     "name": "stderr",
     "output_type": "stream",
     "text": [
      "Training started on cuda:0\n",
      "Visdom successfully connected to server\n",
      "[1/300] Train loss: 21188.558414 \n",
      "[1/300] Validation loss: 20183.733643 \n",
      "[1/300] Time: 67.386966 s\n",
      "------------------------------\n",
      "[2/300] Train loss: 19548.857366 \n",
      "[2/300] Validation loss: 18117.770172 \n",
      "[2/300] Time: 65.776735 s\n",
      "------------------------------\n",
      "[3/300] Train loss: 18125.448997 \n",
      "[3/300] Validation loss: 16905.854095 \n",
      "[3/300] Time: 65.368000 s\n",
      "------------------------------\n",
      "[4/300] Train loss: 16808.393527 \n",
      "[4/300] Validation loss: 15547.673859 \n",
      "[4/300] Time: 67.643877 s\n",
      "------------------------------\n",
      "[5/300] Train loss: 15554.087887 \n",
      "[5/300] Validation loss: 13900.031311 \n",
      "[5/300] Time: 66.952867 s\n",
      "------------------------------\n",
      "[6/300] Train loss: 14487.423565 \n",
      "[6/300] Validation loss: 13553.339966 \n",
      "[6/300] Time: 64.382095 s\n",
      "------------------------------\n",
      "[7/300] Train loss: 13479.573325 \n",
      "[7/300] Validation loss: 12470.203949 \n",
      "[7/300] Time: 67.682676 s\n",
      "------------------------------\n",
      "[8/300] Train loss: 12643.952976 \n",
      "[8/300] Validation loss: 11418.689880 \n",
      "[8/300] Time: 67.337733 s\n",
      "------------------------------\n",
      "[9/300] Train loss: 11889.257972 \n",
      "[9/300] Validation loss: 10769.649872 \n",
      "[9/300] Time: 67.576443 s\n",
      "------------------------------\n"
     ]
    }
   ],
   "source": [
    "train(\n",
    "      model, \n",
    "      dataset, \n",
    "      optimizer, \n",
    "      criterion,\n",
    "      split = [0.9, 0.1],\n",
    "      batch_size = 32,\n",
    "      n_epoch = 300,\n",
    "      random_seed = 42,\n",
    "      model_dir = './',\n",
    "      visdom = True,\n",
    "      decay =  False\n",
    "     )"
   ]
  },
  {
   "cell_type": "code",
   "execution_count": 6,
   "metadata": {},
   "outputs": [
    {
     "data": {
      "image/png": "[encoded data removed]",
      "text/plain": [
       "<Figure size 432x288 with 1 Axes>"
      ]
     },
     "metadata": {
      "needs_background": "light"
     },
     "output_type": "display_data"
    }
   ],
   "source": [
    "metrics = get_metrics()\n",
    "plot_learningcurve(metrics)"
   ]
  },
  {
   "cell_type": "code",
   "execution_count": null,
   "metadata": {},
   "outputs": [],
   "source": []
  }
 ],
 "metadata": {
  "kernelspec": {
   "display_name": "Python 3",
   "language": "python",
   "name": "python3"
  },
  "language_info": {
   "codemirror_mode": {
    "name": "ipython",
    "version": 3
   },
   "file_extension": ".py",
   "mimetype": "text/x-python",
   "name": "python",
   "nbconvert_exporter": "python",
   "pygments_lexer": "ipython3",
   "version": "3.7.0"
  }
 },
 "nbformat": 4,
 "nbformat_minor": 2
}
