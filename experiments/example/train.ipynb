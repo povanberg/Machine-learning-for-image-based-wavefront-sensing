{
 "cells": [
  {
   "cell_type": "code",
   "execution_count": 1,
   "metadata": {},
   "outputs": [],
   "source": [
    "import sys\n",
    "import torch\n",
    "import torch.nn as nn\n",
    "import torch.nn.functional as F\n",
    "import torch.optim as optim\n",
    "from model import Net\n",
    "from torchvision import transforms\n",
    "\n",
    "sys.path.insert(0, '../..')\n",
    "from train import train\n",
    "from dataset import psf_dataset, splitDataLoader, ToTensor, Normalize"
   ]
  },
  {
   "cell_type": "code",
   "execution_count": 2,
   "metadata": {},
   "outputs": [
    {
     "data": {
      "text/plain": [
       "Net(\n",
       "  (conv1): Conv2d(2, 20, kernel_size=(3, 3), stride=(1, 1), padding=(1, 1))\n",
       "  (conv2): Conv2d(20, 40, kernel_size=(3, 3), stride=(1, 1), padding=(1, 1))\n",
       "  (conv3): Conv2d(40, 20, kernel_size=(1, 1), stride=(1, 1))\n",
       "  (pool): MaxPool2d(kernel_size=2, stride=2, padding=0, dilation=1, ceil_mode=False)\n",
       "  (fc1): Linear(in_features=5120, out_features=256, bias=True)\n",
       "  (fc2): Linear(in_features=256, out_features=20, bias=True)\n",
       ")"
      ]
     },
     "execution_count": 2,
     "metadata": {},
     "output_type": "execute_result"
    }
   ],
   "source": [
    "model = Net()\n",
    "\n",
    "# GPU support\n",
    "device = torch.device(\"cuda:0\" if torch.cuda.is_available() else \"cpu\")\n",
    "if torch.cuda.device_count() > 1:\n",
    "    model = nn.DataParallel(model)\n",
    "model.to(device)"
   ]
  },
  {
   "cell_type": "code",
   "execution_count": 3,
   "metadata": {},
   "outputs": [],
   "source": [
    "# Loss function and optimizer\n",
    "criterion = nn.MSELoss()\n",
    "optimizer = optim.Adam(model.parameters(), lr=0.01)"
   ]
  },
  {
   "cell_type": "code",
   "execution_count": 4,
   "metadata": {},
   "outputs": [],
   "source": [
    "# Data set\n",
    "data_dir = '../../dataset/'\n",
    "dataset_size = 10\n",
    "dataset = psf_dataset(\n",
    "    root_dir=data_dir,\n",
    "    size=dataset_size,\n",
    "    transform=transforms.Compose([Normalize(data_dir),\n",
    "                                  ToTensor()])\n",
    ")"
   ]
  },
  {
   "cell_type": "code",
   "execution_count": 5,
   "metadata": {},
   "outputs": [
    {
     "name": "stderr",
     "output_type": "stream",
     "text": [
      "Training started on cpu\n",
      "[1/20] Train loss: 22086.484375 \n",
      "[1/20] Validation loss: 17315.000000 \n",
      "[1/20] Time: 0.429291 s\n",
      "------------------------------\n",
      "[2/20] Train loss: 21874.533203 \n",
      "[2/20] Validation loss: 17529.150391 \n",
      "[2/20] Time: 0.418864 s\n",
      "------------------------------\n",
      "[3/20] Train loss: 21435.777344 \n",
      "[3/20] Validation loss: 19642.935547 \n",
      "[3/20] Time: 0.553609 s\n",
      "------------------------------\n",
      "[4/20] Train loss: 21365.832031 \n",
      "[4/20] Validation loss: 18659.117188 \n",
      "[4/20] Time: 0.467766 s\n",
      "------------------------------\n",
      "[5/20] Train loss: 21065.871094 \n",
      "[5/20] Validation loss: 17792.728516 \n",
      "[5/20] Time: 0.491786 s\n",
      "------------------------------\n",
      "[6/20] Train loss: 21014.455078 \n",
      "[6/20] Validation loss: 17373.173828 \n",
      "[6/20] Time: 0.471805 s\n",
      "------------------------------\n",
      "[7/20] Train loss: 21068.501953 \n",
      "[7/20] Validation loss: 17189.310547 \n",
      "[7/20] Time: 0.577602 s\n",
      "------------------------------\n",
      "[8/20] Train loss: 21099.039062 \n",
      "[8/20] Validation loss: 17130.259766 \n",
      "[8/20] Time: 0.530245 s\n",
      "------------------------------\n",
      "[9/20] Train loss: 21092.994141 \n",
      "[9/20] Validation loss: 17142.537109 \n",
      "[9/20] Time: 0.522266 s\n",
      "------------------------------\n",
      "[10/20] Train loss: 21064.449219 \n",
      "[10/20] Validation loss: 17196.287109 \n",
      "[10/20] Time: 0.455540 s\n",
      "------------------------------\n",
      "[11/20] Train loss: 21031.404297 \n",
      "[11/20] Validation loss: 17262.490234 \n",
      "[11/20] Time: 0.473466 s\n",
      "------------------------------\n",
      "[12/20] Train loss: 21008.468750 \n",
      "[12/20] Validation loss: 17344.718750 \n",
      "[12/20] Time: 0.554430 s\n",
      "------------------------------\n",
      "[13/20] Train loss: 20997.113281 \n",
      "[13/20] Validation loss: 17440.593750 \n",
      "[13/20] Time: 0.471164 s\n",
      "------------------------------\n",
      "[14/20] Train loss: 20992.666016 \n",
      "[14/20] Validation loss: 17550.460938 \n",
      "[14/20] Time: 0.447782 s\n",
      "------------------------------\n",
      "[15/20] Train loss: 20989.478516 \n",
      "[15/20] Validation loss: 17659.621094 \n",
      "[15/20] Time: 0.527874 s\n",
      "------------------------------\n",
      "[16/20] Train loss: 20983.810547 \n",
      "[16/20] Validation loss: 17738.322266 \n",
      "[16/20] Time: 0.575780 s\n",
      "------------------------------\n",
      "[17/20] Train loss: 20970.916016 \n",
      "[17/20] Validation loss: 17770.558594 \n",
      "[17/20] Time: 0.478480 s\n",
      "------------------------------\n",
      "[18/20] Train loss: 20949.496094 \n",
      "[18/20] Validation loss: 17768.529297 \n",
      "[18/20] Time: 0.526785 s\n",
      "------------------------------\n",
      "[19/20] Train loss: 20917.498047 \n",
      "[19/20] Validation loss: 17796.177734 \n",
      "[19/20] Time: 0.524963 s\n",
      "------------------------------\n",
      "[20/20] Train loss: 20865.345703 \n",
      "[20/20] Validation loss: 17843.546875 \n",
      "[20/20] Time: 0.546627 s\n",
      "------------------------------\n",
      "All epochs completed in 10.161432 s\n"
     ]
    }
   ],
   "source": [
    "train(model, dataset, optimizer, criterion,\n",
    "        split=[0.9, 0.1],\n",
    "        batch_size=32,\n",
    "        n_epoch=20,\n",
    "        random_seed=42,\n",
    "        model_dir='./')"
   ]
  },
  {
   "cell_type": "code",
   "execution_count": 7,
   "metadata": {},
   "outputs": [
    {
     "data": {
      "image/png": "[encoded data removed]",
      "text/plain": [
       "<Figure size 432x288 with 1 Axes>"
      ]
     },
     "metadata": {
      "needs_background": "light"
     },
     "output_type": "display_data"
    }
   ],
   "source": [
    "import matplotlib.pyplot as plt\n",
    "import json\n",
    "\n",
    "with open('metrics.json') as f:\n",
    "    metrics = json.load(f)\n",
    "\n",
    "plt.figure()\n",
    "plt.plot(metrics['train_loss'], label='Training loss', color='blue')\n",
    "plt.plot(metrics['val_loss'], label='Validation loss', color='red')\n",
    "plt.legend()\n",
    "plt.xlim(0, 20)\n",
    "plt.show()"
   ]
  },
  {
   "cell_type": "code",
   "execution_count": 12,
   "metadata": {},
   "outputs": [],
   "source": [
    "import os\n",
    "\n",
    "# Load \n",
    "state_dict = torch.load(os.path.join('./', 'model.pth'))\n",
    "#new_state_dict = OrderedDict()\n",
    "#for k, v in state_dict.items():\n",
    "#    name = k[7:] # remove module.\n",
    "#    new_state_dict[name] = v\n",
    "model.load_state_dict(state_dict)"
   ]
  },
  {
   "cell_type": "code",
   "execution_count": null,
   "metadata": {},
   "outputs": [],
   "source": []
  }
 ],
 "metadata": {
  "kernelspec": {
   "display_name": "Python [default]",
   "language": "python",
   "name": "python3"
  },
  "language_info": {
   "codemirror_mode": {
    "name": "ipython",
    "version": 3
   },
   "file_extension": ".py",
   "mimetype": "text/x-python",
   "name": "python",
   "nbconvert_exporter": "python",
   "pygments_lexer": "ipython3",
   "version": "3.7.0"
  }
 },
 "nbformat": 4,
 "nbformat_minor": 2
}
